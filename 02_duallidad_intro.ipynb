{
 "cells": [
  {
   "cell_type": "markdown",
   "source": [
    "# Introducción a la dualidad\n",
    "\n",
    "Basado en: *[Linear Programming Foundations and Extensions](https://link.springer.com/book/10.1007/978-3-030-39415-8)* pp. 77\n",
    "\n",
    "La *dualidad* es un concepto en matemáticas el cual indica que un objeto matemático puede ser visto de dos maneras diferentes. Su aplicación en la programación lineal indica que existen dos problemas, primal y dual, los cuales son equivalentes. Adicionalmente, debido a la propiedad de dualidad fuerte, quizás el teorema más importante de programación lineal, es muy fácil verificar si el resultado obtenido es en realidad óptimo.\n",
    "\n",
    "\n",
    "## Breve introducción a dualidad\n",
    "\n",
    "Supongamos que se tiene el siguiente problema de optimización utilizando la notación estándar al cual llamaremos el primal.\n",
    "\n",
    "$min \\sum_{j=1}^{n} c_{j}x_{j}$ \\\n",
    "$s.t.: \\sum_{j=1}^{n}a_{i,j} \\leq b_j$ \\\n",
    "$\\quad \\quad \\quad \\quad x_{j} \\geq 0$\n",
    "\n",
    "El dual asociado a este problema sería:\n",
    "\n",
    "$max\\sum_{i=1}^{m} b_i y_i$ \\\n",
    "$s.t.: \\sum_{i=1}^{m}y_i a_{i,j} \\geq c_j$ \\\n",
    "$\\quad \\quad \\quad \\quad y_{i} \\geq 0$\n",
    "\n",
    "\n",
    "Antes de continuar, recordemos que la programación lineal consiste simplemente en encontrar una solución a un sistema de ecuaiones lineales indeterminado, i.e., más incógnitas que ecuaciones, la cual corresponda a un valor óptimo de una función  lineal.\n",
    "\n",
    "Por tanto, lo que llamamos restricciones en el primal corresponde al sistema de ecuaciones:\n",
    "\n",
    "$A x \\leq b$\n",
    "\n",
    "- $A \\in \\mathbf{R}^{m,n}$\n",
    "- $x \\in \\mathbf{R}^n$\n",
    "- $b \\in \\mathbf{R}^m$\n",
    "\n",
    "Mientras que las restricciones del dual son:\n",
    "$A^{T}y \\geq c$\n",
    "- $A^{T} \\in \\mathbf{R}^{n,m}$\n",
    "- $y \\in \\mathbf{R}^m$\n",
    "- $c \\in \\mathbf{R}^n$\n",
    "\n",
    "Mientras que la solución del primal, i.e., $x$, usualmente tiene relación con el problema real que se intenta resolver; la solución del dual, i.e., $y$, corresponde al costo que una restricción en caso de que esté activa, es decir, que en el óptimo, para un par $i, j$ la ecuación $A_{j,i}x \\leq b_i$ se cumpla como una igualdad y no una desigualdad.\n",
    "\n",
    "La solución del dual, $y$, recibe el nombre común de precio sombra y es tan sólo caso particular de una teoría más general llamada Dualidad Lagrangiana\n",
    "\n",
    "## Relación primal-dual\n",
    "\n",
    "La importancia de la dualidad fuerte de la programación lineal radica en que brinda un marco de trabajo para diseñar algoritmos de solución eficientes que permiten que resolver problemas con millones de variables.\n",
    "\n",
    "Aquí es importante resaltar que la denotación primal-dual es por mera conveniencia y facilidad en la interpretación de resultados, sin embargo, no tiene ninguna implicación matemática y ambos problemas son intercambiables.\n",
    "\n",
    "### Teorema de dualidad fuerte\n",
    "Utilizando la notación primal-dual especificada previamente, el teorema de dualidad fuerte nos dice que, en los respectivos óptimos $x^{*}, y^{*} $:\n",
    "$$\\sum_{j}c_j x^{*}_j = \\sum_{i}b_i y^{*}_i$$\n",
    "\n",
    "En otras palabras, el valor óptimo, si existe, debe ser el mismo en ambos problemas; esto está relacionado con el hecho de que tanto el primal como el dual están intentando aproximarse a un punto específico desde dos direcciones diferentes; esto se cumple incluso cuando existen múltiples soluciones, pero este es un caso que va más allá de una breve introducción.\n",
    "\n",
    "\n",
    "### Aplicación: alocación de recursos\n"
   ],
   "metadata": {
    "collapsed": false
   },
   "id": "f46875d656698516"
  },
  {
   "cell_type": "code",
   "execution_count": null,
   "outputs": [],
   "source": [],
   "metadata": {
    "collapsed": false
   },
   "id": "f9ee0870317e975b"
  }
 ],
 "metadata": {
  "kernelspec": {
   "display_name": "Python 3",
   "language": "python",
   "name": "python3"
  },
  "language_info": {
   "codemirror_mode": {
    "name": "ipython",
    "version": 2
   },
   "file_extension": ".py",
   "mimetype": "text/x-python",
   "name": "python",
   "nbconvert_exporter": "python",
   "pygments_lexer": "ipython2",
   "version": "2.7.6"
  }
 },
 "nbformat": 4,
 "nbformat_minor": 5
}
