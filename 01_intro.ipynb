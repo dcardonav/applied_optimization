{
 "cells": [
  {
   "cell_type": "markdown",
   "id": "30513d756ebd8eae",
   "metadata": {},
   "source": [
    "# Introducción\n",
    "\n",
    "Este repositorio surge como respuesta a la falta de material práctico en lenguaje español sobre optimización y modelación matemática utilizando lenguajes de programación modernos, además de servir como portafolio personal. Mi objetivo es cubrir desde los aspectos más básicos como programación lineal hasta aspectos más avanzados como optimización (convexa) en línea.\n",
    "\n",
    "## Índice\n",
    "\n",
    "Los notebooks son netamente prácticos, es decir, no se explica la teoría detrás de los modelos y las técnicas; en general, tendrán la estructura de problema de negocio, modelo matemático, implementación y solución. Adicionalmente, trataré de incluir trucos específicos que he ido aprendiendo.\n",
    "\n",
    "Los problemas vienen de múltiples textos académicos y se encuentran adecuadamente referenciados para los interesados en profundizar de dónde surgen.\n",
    "\n",
    "1. **[Un modelo básico](01_primeros_ejemplos.ipynb)**.\n",
    "\n",
    "\n",
    "\n"
   ]
  },
  {
   "cell_type": "code",
   "execution_count": null,
   "id": "6f783566f3e6ae56",
   "metadata": {},
   "outputs": [],
   "source": []
  }
 ],
 "metadata": {
  "kernelspec": {
   "display_name": "Python 3 (ipykernel)",
   "language": "python",
   "name": "python3"
  },
  "language_info": {
   "codemirror_mode": {
    "name": "ipython",
    "version": 3
   },
   "file_extension": ".py",
   "mimetype": "text/x-python",
   "name": "python",
   "nbconvert_exporter": "python",
   "pygments_lexer": "ipython3",
   "version": "3.12.0"
  }
 },
 "nbformat": 4,
 "nbformat_minor": 5
}
