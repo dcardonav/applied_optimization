{
 "cells": [
  {
   "metadata": {},
   "cell_type": "markdown",
   "source": [
    "# Problemas Básicos\n",
    "\n"
   ],
   "id": "46763d0bccfda10c"
  },
  {
   "metadata": {},
   "cell_type": "markdown",
   "source": [
    "# Producción de madera\n",
    "Una empresa maderera dispone de dos tipos de madera, pino y abedul, que pueden utilizarse para fabricar dos productos: madera contrachapada o tablero. Para producir 100 m2 de madera contrachapada se necesitan 300 m2 de pino y 300 m2 de abedul, mientras que para producir 100 m2 de tablero se necesitan 100 m2 de pino y 500 m2 de abedul. La empresa tiene acceso a 5000 m2 de pino y 6000 m2 de abedul en cada período de trabajo. Se pueden estimar los costes e ingresos de las diferentes materias primas y productos, y la empresa desea crear un modelo de LP para maximizar los ingresos netos por período. La empresa quiere producir al menos 500 m2 de cada producto por período."
   ],
   "id": "128bf019ce69714d"
  },
  {
   "metadata": {},
   "cell_type": "markdown",
   "source": [
    "### Índices\n",
    "- $m \\in \\{p,a\\}$: tipos de madera, pino y abedul\n",
    "- $r \\in \\{c,t\\}$: tipos de productos, madera contrachapada y tableros\n",
    "\n",
    "### Variables de decisión\n",
    "- $c_{m, r}$: cantidad de madera $m$ a utilizar en la producción del producto $r$\n",
    "- $x_{r}$: cantidad de producto $r$ a producir\n",
    "\n",
    "### Restricciones\n",
    "- $x_{r} \\geq 500 \\quad \\forall p$: mínimo de producción\n",
    "- $\\sum_{r} c_{m, r} \\leq D_{m} \\quad \\forall p$: límite de madera disponible\n",
    "- $3 x_{c} - c_{p, c} = 0$: pino para producir madera contrachapada\n",
    "- $3 x_{c} - c_{a, c} = 0$: abedul para producir madera contrachapada\n",
    "- $x_{t} - c_{p, t} = 0$:  pino para producir tableros\n",
    "- $5 x_{t} - c_{a, t} = 0$: abedul para producir tableros\n",
    "\n",
    "### Parámetros\n",
    "- $CV_{m, r}$: costo de la madera $m$ para producir el producto $r$\n",
    "- $P_{r}$: precio de venta del producto $r$\n",
    "- $D_{m}$: disponibilidad de la madera $m$\n",
    "\n",
    "### Función Objetivo\n",
    "- $\\max \\sum_{r} P_{r} x_{r} - \\sum_{m, r} CV_{m} c_{m, r}$"
   ],
   "id": "1d78f0294ed72550"
  },
  {
   "metadata": {
    "ExecuteTime": {
     "end_time": "2024-07-15T16:36:37.439758Z",
     "start_time": "2024-07-15T16:36:37.430329Z"
    }
   },
   "cell_type": "code",
   "source": [
    "# Implementación en Python\n",
    "\n",
    "import pyomo.environ as pyo\n",
    "\n",
    "# diccionario con los parámetros del modelo\n",
    "parametros = {\n",
    "    # costos de la madera\n",
    "    'CV': {\n",
    "        'p': 30,\n",
    "        'a': 50\n",
    "    },\n",
    "    # precios de venta de los productos\n",
    "    'PV': {\n",
    "        'c': 1000,\n",
    "        't': 1200,\n",
    "    },\n",
    "    # disponibilidad de madera\n",
    "    'D': {\n",
    "        'p': 5000,\n",
    "        'a': 6000,\n",
    "    },\n",
    "    # cantidad mínima que se espera producir\n",
    "    'MinProd': {\n",
    "        'c': 500,\n",
    "        't': 500\n",
    "    },\n",
    "    # cantidad de tipo madera necesaria por unidad de producto\n",
    "    'MatProd': {\n",
    "        ('p', 'c'): 3,\n",
    "        ('a', 'c'): 3,\n",
    "        ('p', 't'): 1,\n",
    "        ('a', 't'): 5\n",
    "    }\n",
    "}\n",
    "\n",
    "# Creemos una función que construya al modelo\n",
    "\n",
    "def modelo_madera(param: dict):\n",
    "    \n",
    "    # creamos el modelo\n",
    "    modelo = pyo.ConcreteModel(name= 'productos de madera')\n",
    "    \n",
    "    # especificamos los índices\n",
    "    modelo.m = pyo.Set(initialize= ['p', 'a'])\n",
    "    modelo.r = pyo.Set(initialize= ['c', 't'])\n",
    "    \n",
    "    # parámetros del modelo, nótese cómo Pyomo utiliza diccionarios automáticamente para especificar los parámetros\n",
    "    \n",
    "    # costo de la madera\n",
    "    modelo.CV = pyo.Param(modelo.m, initialize= param['CV'])\n",
    "    \n",
    "    # precio de venta de los productos\n",
    "    modelo.PV = pyo.Param(modelo.r, initialize= param['PV'])\n",
    "    \n",
    "    # madera necesaria por unidad de producto\n",
    "    modelo.MatProd = pyo.Param(modelo.m, modelo.r, initialize= param['MatProd'])\n",
    "    \n",
    "    \n",
    "    # variables de decisión\n",
    "    \n",
    "    # cantidad de madera a utilizar en la producción de cada tipo de producto\n",
    "    modelo.c = pyo.Var(modelo.m, modelo.r, domain= pyo.NonNegativeReals)\n",
    "    # cantidad a producir por tipo de producto\n",
    "    modelo.x = pyo.Var(modelo.r, domain= pyo.NonNegativeReals)\n",
    "    \n",
    "    \n",
    "    # las restricciones en Pyomo se especifican como funciones, los argumentos corresponden a los índices de las variales y parámetros usados en la restricción\n",
    "    # en este caso, se necesita una restricción para cada tipo de madera, no es necesario especificar los índices de los productos ya que estos se suman en la restricción\n",
    "    # IMPORTANTE: el primer argumento siempre es el modelo que se está construyendo\n",
    "    def limite_madera(mod, m):\n",
    "        return sum(mod.c[m, r] for r in modelo.r) <= param['D'][m]\n",
    "    # rule corresponde al nombre de la función que chequea la restricción\n",
    "    modelo.rest_limite_madera = pyo.Constraint(modelo.m, rule= limite_madera)\n",
    "    \n",
    "    \n",
    "    # restricciones de producción mínima\n",
    "    def min_prod(mod, r):\n",
    "        return mod.x[r] >= param['MinProd'][r]\n",
    "    modelo.rest_min_prod = pyo.Constraint(modelo.r, rule= min_prod)\n",
    "    \n",
    "    # balance para cada tipo madera\n",
    "    def balance_madera(mod, m, r):\n",
    "        return mod.MatProd[m, r] * mod.x[r] - mod.c[m, r] == 0\n",
    "    modelo.rest_balance_madera = pyo.Constraint(modelo.m, modelo.r, rule= balance_madera)\n",
    "    \n",
    "    # función objetivo\n",
    "    def objetivo(mod):\n",
    "        return sum(mod.PV[r] * mod.x[r] - sum(mod.CV[m] * mod.c[m, r] for m in mod.m) for r in mod.r)\n",
    "    modelo.obj = pyo.Objective(rule= objetivo, sense= pyo.maximize)\n",
    "    \n",
    "    return modelo\n",
    "    "
   ],
   "id": "4b922310d536ebb1",
   "outputs": [],
   "execution_count": 18
  },
  {
   "metadata": {
    "ExecuteTime": {
     "end_time": "2024-07-15T16:38:23.195635Z",
     "start_time": "2024-07-15T16:38:22.844307Z"
    }
   },
   "cell_type": "code",
   "source": [
    "# ahora creamos una instancia del modelo y lo ejecutamos\n",
    "\n",
    "# creamos el modelo utilizando los parámetros definidos\n",
    "modelo = modelo_madera(parametros)\n",
    "\n",
    "# utilizamos un solver\n",
    "solver = pyo.SolverFactory('gurobi')\n",
    "# resolvemos el modelo y guardamos los resultados\n",
    "resultados = solver.solve(modelo)\n",
    "# la siguiente instrucción genera un error en caso de que no se haya encontrado una solución óptima\n",
    "pyo.assert_optimal_termination(resultados)\n",
    "\n",
    "# imprimimos los resultados\n",
    "modelo.display()"
   ],
   "id": "984aac2be3c28572",
   "outputs": [
    {
     "name": "stdout",
     "output_type": "stream",
     "text": [
      "Model productos de madera\n",
      "\n",
      "  Variables:\n",
      "    c : Size=4, Index=c_index\n",
      "        Key        : Lower : Value  : Upper : Fixed : Stale : Domain\n",
      "        ('a', 'c') :     0 : 3500.0 :  None : False : False : NonNegativeReals\n",
      "        ('a', 't') :     0 : 2500.0 :  None : False : False : NonNegativeReals\n",
      "        ('p', 'c') :     0 : 3500.0 :  None : False : False : NonNegativeReals\n",
      "        ('p', 't') :     0 :  500.0 :  None : False : False : NonNegativeReals\n",
      "    x : Size=2, Index=r\n",
      "        Key : Lower : Value              : Upper : Fixed : Stale : Domain\n",
      "          c :     0 : 1166.6666666666667 :  None : False : False : NonNegativeReals\n",
      "          t :     0 :              500.0 :  None : False : False : NonNegativeReals\n",
      "\n",
      "  Objectives:\n",
      "    obj : Size=1, Index=None, Active=True\n",
      "        Key  : Active : Value\n",
      "        None :   True : 1346666.6666666667\n",
      "\n",
      "  Constraints:\n",
      "    rest_limite_madera : Size=2\n",
      "        Key : Lower : Body   : Upper\n",
      "          a :  None : 6000.0 : 6000.0\n",
      "          p :  None : 4000.0 : 5000.0\n",
      "    rest_min_prod : Size=2\n",
      "        Key : Lower : Body               : Upper\n",
      "          c : 500.0 : 1166.6666666666667 :  None\n",
      "          t : 500.0 :              500.0 :  None\n",
      "    rest_balance_madera : Size=4\n",
      "        Key        : Lower : Body : Upper\n",
      "        ('a', 'c') :   0.0 :  0.0 :   0.0\n",
      "        ('a', 't') :   0.0 :  0.0 :   0.0\n",
      "        ('p', 'c') :   0.0 :  0.0 :   0.0\n",
      "        ('p', 't') :   0.0 :  0.0 :   0.0\n"
     ]
    }
   ],
   "execution_count": 19
  },
  {
   "metadata": {},
   "cell_type": "markdown",
   "source": [
    "## Obtención de resultados\n",
    "\n",
    "Una de las principales ventajas de utilizar un lenguaje como Python en la implementación de modelos de optimización es que se puede integrar fácilmente a flujos de trabajo sin la necesidade de interfaces de intercambio de información, y manteniendo todo dentro de la misma plataforma tecnológica y utilizando el mismo código fuente.\n"
   ],
   "id": "1da9817077714eac"
  },
  {
   "metadata": {
    "ExecuteTime": {
     "end_time": "2024-07-15T16:42:50.938449Z",
     "start_time": "2024-07-15T16:42:50.932944Z"
    }
   },
   "cell_type": "code",
   "source": [
    "# la función principal para obtener valores de las variables de decisión es value()\n",
    "\n",
    "# cantidad de madera a utilizar en la producción de cada tipo de producto\n",
    "for m in modelo.m:\n",
    "    for r in modelo.r:\n",
    "        print(f'Cantidad de madera {m} para producir producto {r} = {pyo.value(modelo.c[m, r])}')"
   ],
   "id": "e7c73246367647a5",
   "outputs": [
    {
     "name": "stdout",
     "output_type": "stream",
     "text": [
      "Cantidad de madera p para producir producto c = 3500.0\n",
      "Cantidad de madera p para producir producto t = 500.0\n",
      "Cantidad de madera a para producir producto c = 3500.0\n",
      "Cantidad de madera a para producir producto t = 2500.0\n"
     ]
    }
   ],
   "execution_count": 22
  },
  {
   "metadata": {
    "ExecuteTime": {
     "end_time": "2024-07-15T16:50:07.871394Z",
     "start_time": "2024-07-15T16:50:07.866510Z"
    }
   },
   "cell_type": "code",
   "source": [
    "# exploremos todas las variables del modelo\n",
    "\n",
    "for v in modelo.component_objects(pyo.Var):\n",
    "    print(f'Variable: {v}')\n",
    "    for index in v:\n",
    "        print(f'\\t índice: {index}', pyo.value(v[index]))"
   ],
   "id": "62c89a7f05b2288e",
   "outputs": [
    {
     "name": "stdout",
     "output_type": "stream",
     "text": [
      "Variable: c\n",
      "\t índice: ('p', 'c') 3500.0\n",
      "\t índice: ('p', 't') 500.0\n",
      "\t índice: ('a', 'c') 3500.0\n",
      "\t índice: ('a', 't') 2500.0\n",
      "Variable: x\n",
      "\t índice: c 1166.6666666666667\n",
      "\t índice: t 500.0\n"
     ]
    }
   ],
   "execution_count": 30
  },
  {
   "metadata": {
    "ExecuteTime": {
     "end_time": "2024-07-15T16:54:36.912468Z",
     "start_time": "2024-07-15T16:54:36.905497Z"
    }
   },
   "cell_type": "code",
   "source": [
    "# generémoslo de manera dinámica utilizando un diccionario\n",
    "\n",
    "\n",
    "dict_resultados = dict()\n",
    "dict_resultados = {v.name: {index: pyo.value(v[index]) for index in v} for v in modelo.component_objects(pyo.Var)}\n",
    "\n",
    "dict_resultados"
   ],
   "id": "ac5e65fd7fe8bbdd",
   "outputs": [
    {
     "data": {
      "text/plain": [
       "{'c': {('p', 'c'): 3500.0,\n",
       "  ('p', 't'): 500.0,\n",
       "  ('a', 'c'): 3500.0,\n",
       "  ('a', 't'): 2500.0},\n",
       " 'x': {'c': 1166.6666666666667, 't': 500.0}}"
      ]
     },
     "execution_count": 34,
     "metadata": {},
     "output_type": "execute_result"
    }
   ],
   "execution_count": 34
  },
  {
   "metadata": {
    "ExecuteTime": {
     "end_time": "2024-07-15T17:40:49.907067Z",
     "start_time": "2024-07-15T17:40:49.897525Z"
    }
   },
   "cell_type": "code",
   "source": [
    "# ahora creemos un Dataframe para cada conjunto de variables de decisión\n",
    "\n",
    "import pandas as pd\n",
    "\n",
    "dict_df = {v: pd.DataFrame.from_dict(dict_resultados[v], orient='index').reset_index(drop=False, inplace=False) for v in dict_resultados}\n",
    "dict_df['c']"
   ],
   "id": "9e78ca6133648468",
   "outputs": [
    {
     "data": {
      "text/plain": [
       "    index       0\n",
       "0  (p, c)  3500.0\n",
       "1  (p, t)   500.0\n",
       "2  (a, c)  3500.0\n",
       "3  (a, t)  2500.0"
      ],
      "text/html": [
       "<div>\n",
       "<style scoped>\n",
       "    .dataframe tbody tr th:only-of-type {\n",
       "        vertical-align: middle;\n",
       "    }\n",
       "\n",
       "    .dataframe tbody tr th {\n",
       "        vertical-align: top;\n",
       "    }\n",
       "\n",
       "    .dataframe thead th {\n",
       "        text-align: right;\n",
       "    }\n",
       "</style>\n",
       "<table border=\"1\" class=\"dataframe\">\n",
       "  <thead>\n",
       "    <tr style=\"text-align: right;\">\n",
       "      <th></th>\n",
       "      <th>index</th>\n",
       "      <th>0</th>\n",
       "    </tr>\n",
       "  </thead>\n",
       "  <tbody>\n",
       "    <tr>\n",
       "      <th>0</th>\n",
       "      <td>(p, c)</td>\n",
       "      <td>3500.0</td>\n",
       "    </tr>\n",
       "    <tr>\n",
       "      <th>1</th>\n",
       "      <td>(p, t)</td>\n",
       "      <td>500.0</td>\n",
       "    </tr>\n",
       "    <tr>\n",
       "      <th>2</th>\n",
       "      <td>(a, c)</td>\n",
       "      <td>3500.0</td>\n",
       "    </tr>\n",
       "    <tr>\n",
       "      <th>3</th>\n",
       "      <td>(a, t)</td>\n",
       "      <td>2500.0</td>\n",
       "    </tr>\n",
       "  </tbody>\n",
       "</table>\n",
       "</div>"
      ]
     },
     "execution_count": 92,
     "metadata": {},
     "output_type": "execute_result"
    }
   ],
   "execution_count": 92
  },
  {
   "metadata": {
    "ExecuteTime": {
     "end_time": "2024-07-15T17:40:54.081633Z",
     "start_time": "2024-07-15T17:40:54.069593Z"
    }
   },
   "cell_type": "code",
   "source": [
    "# vemos que para la cantidad de material el índice es multidimensional, para facilitar el trabajo, dividamos cada dimensión en una columna\n",
    "\n",
    "# primero transformamos las tuplas en multiíndices\n",
    "dict_df['c'].set_index(pd.MultiIndex.from_tuples(dict_df['c']['index'].tolist()), inplace=True)\n",
    "dict_df['c']"
   ],
   "id": "a367267ae77dc0e0",
   "outputs": [
    {
     "data": {
      "text/plain": [
       "      index       0\n",
       "p c  (p, c)  3500.0\n",
       "  t  (p, t)   500.0\n",
       "a c  (a, c)  3500.0\n",
       "  t  (a, t)  2500.0"
      ],
      "text/html": [
       "<div>\n",
       "<style scoped>\n",
       "    .dataframe tbody tr th:only-of-type {\n",
       "        vertical-align: middle;\n",
       "    }\n",
       "\n",
       "    .dataframe tbody tr th {\n",
       "        vertical-align: top;\n",
       "    }\n",
       "\n",
       "    .dataframe thead th {\n",
       "        text-align: right;\n",
       "    }\n",
       "</style>\n",
       "<table border=\"1\" class=\"dataframe\">\n",
       "  <thead>\n",
       "    <tr style=\"text-align: right;\">\n",
       "      <th></th>\n",
       "      <th></th>\n",
       "      <th>index</th>\n",
       "      <th>0</th>\n",
       "    </tr>\n",
       "  </thead>\n",
       "  <tbody>\n",
       "    <tr>\n",
       "      <th rowspan=\"2\" valign=\"top\">p</th>\n",
       "      <th>c</th>\n",
       "      <td>(p, c)</td>\n",
       "      <td>3500.0</td>\n",
       "    </tr>\n",
       "    <tr>\n",
       "      <th>t</th>\n",
       "      <td>(p, t)</td>\n",
       "      <td>500.0</td>\n",
       "    </tr>\n",
       "    <tr>\n",
       "      <th rowspan=\"2\" valign=\"top\">a</th>\n",
       "      <th>c</th>\n",
       "      <td>(a, c)</td>\n",
       "      <td>3500.0</td>\n",
       "    </tr>\n",
       "    <tr>\n",
       "      <th>t</th>\n",
       "      <td>(a, t)</td>\n",
       "      <td>2500.0</td>\n",
       "    </tr>\n",
       "  </tbody>\n",
       "</table>\n",
       "</div>"
      ]
     },
     "execution_count": 93,
     "metadata": {},
     "output_type": "execute_result"
    }
   ],
   "execution_count": 93
  },
  {
   "metadata": {
    "ExecuteTime": {
     "end_time": "2024-07-15T17:40:54.734239Z",
     "start_time": "2024-07-15T17:40:54.724632Z"
    }
   },
   "cell_type": "code",
   "source": [
    "# ahora reiniciamos los índices\n",
    "dict_df['c'].reset_index(drop=False, inplace=True)\n",
    "dict_df['c']"
   ],
   "id": "c8e4695e3d400dc8",
   "outputs": [
    {
     "data": {
      "text/plain": [
       "  level_0 level_1   index       0\n",
       "0       p       c  (p, c)  3500.0\n",
       "1       p       t  (p, t)   500.0\n",
       "2       a       c  (a, c)  3500.0\n",
       "3       a       t  (a, t)  2500.0"
      ],
      "text/html": [
       "<div>\n",
       "<style scoped>\n",
       "    .dataframe tbody tr th:only-of-type {\n",
       "        vertical-align: middle;\n",
       "    }\n",
       "\n",
       "    .dataframe tbody tr th {\n",
       "        vertical-align: top;\n",
       "    }\n",
       "\n",
       "    .dataframe thead th {\n",
       "        text-align: right;\n",
       "    }\n",
       "</style>\n",
       "<table border=\"1\" class=\"dataframe\">\n",
       "  <thead>\n",
       "    <tr style=\"text-align: right;\">\n",
       "      <th></th>\n",
       "      <th>level_0</th>\n",
       "      <th>level_1</th>\n",
       "      <th>index</th>\n",
       "      <th>0</th>\n",
       "    </tr>\n",
       "  </thead>\n",
       "  <tbody>\n",
       "    <tr>\n",
       "      <th>0</th>\n",
       "      <td>p</td>\n",
       "      <td>c</td>\n",
       "      <td>(p, c)</td>\n",
       "      <td>3500.0</td>\n",
       "    </tr>\n",
       "    <tr>\n",
       "      <th>1</th>\n",
       "      <td>p</td>\n",
       "      <td>t</td>\n",
       "      <td>(p, t)</td>\n",
       "      <td>500.0</td>\n",
       "    </tr>\n",
       "    <tr>\n",
       "      <th>2</th>\n",
       "      <td>a</td>\n",
       "      <td>c</td>\n",
       "      <td>(a, c)</td>\n",
       "      <td>3500.0</td>\n",
       "    </tr>\n",
       "    <tr>\n",
       "      <th>3</th>\n",
       "      <td>a</td>\n",
       "      <td>t</td>\n",
       "      <td>(a, t)</td>\n",
       "      <td>2500.0</td>\n",
       "    </tr>\n",
       "  </tbody>\n",
       "</table>\n",
       "</div>"
      ]
     },
     "execution_count": 94,
     "metadata": {},
     "output_type": "execute_result"
    }
   ],
   "execution_count": 94
  },
  {
   "metadata": {
    "ExecuteTime": {
     "end_time": "2024-07-15T17:40:55.577565Z",
     "start_time": "2024-07-15T17:40:55.567966Z"
    }
   },
   "cell_type": "code",
   "source": [
    "# y eliminamos la columna 'index'\n",
    "dict_df['c'].drop(columns=['index'], inplace=True)\n",
    "dict_df['c']"
   ],
   "id": "b0c7ada1102fc230",
   "outputs": [
    {
     "data": {
      "text/plain": [
       "  level_0 level_1       0\n",
       "0       p       c  3500.0\n",
       "1       p       t   500.0\n",
       "2       a       c  3500.0\n",
       "3       a       t  2500.0"
      ],
      "text/html": [
       "<div>\n",
       "<style scoped>\n",
       "    .dataframe tbody tr th:only-of-type {\n",
       "        vertical-align: middle;\n",
       "    }\n",
       "\n",
       "    .dataframe tbody tr th {\n",
       "        vertical-align: top;\n",
       "    }\n",
       "\n",
       "    .dataframe thead th {\n",
       "        text-align: right;\n",
       "    }\n",
       "</style>\n",
       "<table border=\"1\" class=\"dataframe\">\n",
       "  <thead>\n",
       "    <tr style=\"text-align: right;\">\n",
       "      <th></th>\n",
       "      <th>level_0</th>\n",
       "      <th>level_1</th>\n",
       "      <th>0</th>\n",
       "    </tr>\n",
       "  </thead>\n",
       "  <tbody>\n",
       "    <tr>\n",
       "      <th>0</th>\n",
       "      <td>p</td>\n",
       "      <td>c</td>\n",
       "      <td>3500.0</td>\n",
       "    </tr>\n",
       "    <tr>\n",
       "      <th>1</th>\n",
       "      <td>p</td>\n",
       "      <td>t</td>\n",
       "      <td>500.0</td>\n",
       "    </tr>\n",
       "    <tr>\n",
       "      <th>2</th>\n",
       "      <td>a</td>\n",
       "      <td>c</td>\n",
       "      <td>3500.0</td>\n",
       "    </tr>\n",
       "    <tr>\n",
       "      <th>3</th>\n",
       "      <td>a</td>\n",
       "      <td>t</td>\n",
       "      <td>2500.0</td>\n",
       "    </tr>\n",
       "  </tbody>\n",
       "</table>\n",
       "</div>"
      ]
     },
     "execution_count": 95,
     "metadata": {},
     "output_type": "execute_result"
    }
   ],
   "execution_count": 95
  },
  {
   "metadata": {
    "ExecuteTime": {
     "end_time": "2024-07-15T17:41:45.422775Z",
     "start_time": "2024-07-15T17:41:45.412528Z"
    }
   },
   "cell_type": "code",
   "source": [
    "dict_df['c'].columns = ['tipo_madera', 'tipo_producto', 'cantidad']\n",
    "dict_df['c']"
   ],
   "id": "246533f6450b0a0a",
   "outputs": [
    {
     "data": {
      "text/plain": [
       "  tipo_madera tipo_producto  cantidad\n",
       "0           p             c    3500.0\n",
       "1           p             t     500.0\n",
       "2           a             c    3500.0\n",
       "3           a             t    2500.0"
      ],
      "text/html": [
       "<div>\n",
       "<style scoped>\n",
       "    .dataframe tbody tr th:only-of-type {\n",
       "        vertical-align: middle;\n",
       "    }\n",
       "\n",
       "    .dataframe tbody tr th {\n",
       "        vertical-align: top;\n",
       "    }\n",
       "\n",
       "    .dataframe thead th {\n",
       "        text-align: right;\n",
       "    }\n",
       "</style>\n",
       "<table border=\"1\" class=\"dataframe\">\n",
       "  <thead>\n",
       "    <tr style=\"text-align: right;\">\n",
       "      <th></th>\n",
       "      <th>tipo_madera</th>\n",
       "      <th>tipo_producto</th>\n",
       "      <th>cantidad</th>\n",
       "    </tr>\n",
       "  </thead>\n",
       "  <tbody>\n",
       "    <tr>\n",
       "      <th>0</th>\n",
       "      <td>p</td>\n",
       "      <td>c</td>\n",
       "      <td>3500.0</td>\n",
       "    </tr>\n",
       "    <tr>\n",
       "      <th>1</th>\n",
       "      <td>p</td>\n",
       "      <td>t</td>\n",
       "      <td>500.0</td>\n",
       "    </tr>\n",
       "    <tr>\n",
       "      <th>2</th>\n",
       "      <td>a</td>\n",
       "      <td>c</td>\n",
       "      <td>3500.0</td>\n",
       "    </tr>\n",
       "    <tr>\n",
       "      <th>3</th>\n",
       "      <td>a</td>\n",
       "      <td>t</td>\n",
       "      <td>2500.0</td>\n",
       "    </tr>\n",
       "  </tbody>\n",
       "</table>\n",
       "</div>"
      ]
     },
     "execution_count": 97,
     "metadata": {},
     "output_type": "execute_result"
    }
   ],
   "execution_count": 97
  },
  {
   "metadata": {
    "ExecuteTime": {
     "end_time": "2024-07-15T17:43:12.572973Z",
     "start_time": "2024-07-15T17:43:12.565510Z"
    }
   },
   "cell_type": "code",
   "source": [
    "# ahora repitamos el proceso para la variable de cantidad de producto a producir\n",
    "dict_df['x'].columns = ['tipo_producto', 'cantidad']\n",
    "dict_df['x']"
   ],
   "id": "bd548d3f69ce7693",
   "outputs": [
    {
     "data": {
      "text/plain": [
       "  tipo_producto     cantidad\n",
       "0             c  1166.666667\n",
       "1             t   500.000000"
      ],
      "text/html": [
       "<div>\n",
       "<style scoped>\n",
       "    .dataframe tbody tr th:only-of-type {\n",
       "        vertical-align: middle;\n",
       "    }\n",
       "\n",
       "    .dataframe tbody tr th {\n",
       "        vertical-align: top;\n",
       "    }\n",
       "\n",
       "    .dataframe thead th {\n",
       "        text-align: right;\n",
       "    }\n",
       "</style>\n",
       "<table border=\"1\" class=\"dataframe\">\n",
       "  <thead>\n",
       "    <tr style=\"text-align: right;\">\n",
       "      <th></th>\n",
       "      <th>tipo_producto</th>\n",
       "      <th>cantidad</th>\n",
       "    </tr>\n",
       "  </thead>\n",
       "  <tbody>\n",
       "    <tr>\n",
       "      <th>0</th>\n",
       "      <td>c</td>\n",
       "      <td>1166.666667</td>\n",
       "    </tr>\n",
       "    <tr>\n",
       "      <th>1</th>\n",
       "      <td>t</td>\n",
       "      <td>500.000000</td>\n",
       "    </tr>\n",
       "  </tbody>\n",
       "</table>\n",
       "</div>"
      ]
     },
     "execution_count": 100,
     "metadata": {},
     "output_type": "execute_result"
    }
   ],
   "execution_count": 100
  },
  {
   "metadata": {},
   "cell_type": "code",
   "outputs": [],
   "execution_count": null,
   "source": "",
   "id": "10a3c49fff49375"
  }
 ],
 "metadata": {
  "kernelspec": {
   "display_name": "Python 3",
   "language": "python",
   "name": "python3"
  },
  "language_info": {
   "codemirror_mode": {
    "name": "ipython",
    "version": 2
   },
   "file_extension": ".py",
   "mimetype": "text/x-python",
   "name": "python",
   "nbconvert_exporter": "python",
   "pygments_lexer": "ipython2",
   "version": "2.7.6"
  }
 },
 "nbformat": 4,
 "nbformat_minor": 5
}
